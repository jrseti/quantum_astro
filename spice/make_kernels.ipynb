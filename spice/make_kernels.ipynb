{
 "cells": [
  {
   "cell_type": "markdown",
   "metadata": {},
   "source": [
    "# Creating SPICE Kernels for Various Sites\n",
    "\n",
    "## This shows how to create the SPICE kernel for the HCRO and VA7MM sites.\n",
    "\n",
    "VA7MM is the transmitter near Vancouver.\n",
    "\n",
    "Note: The methodology used her was derived from some useful code by Stu Pilorz.\n",
    "\n",
    "This is in 2 steps:\n",
    "\n",
    "  1. Create a definitions file for the sites. This requires you to convert the lat/lon of the sites to rectangular coordinates. Then create a text definitions file.\n",
    "  2. Us the NAIF utility program pinpoint to read the definitions file just created and output a SPIKCE kernel."
   ]
  },
  {
   "cell_type": "code",
   "execution_count": 1,
   "metadata": {},
   "outputs": [],
   "source": [
    "import os\n",
    "import numpy as np\n",
    "import spiceypy"
   ]
  },
  {
   "cell_type": "code",
   "execution_count": 2,
   "metadata": {},
   "outputs": [],
   "source": [
    "# furnsh loads a kernel for our use.\n",
    "# \"pck00010.tpc\" makes available for use in SPICE-based application\n",
    "# software orientation and size/shape data for natural bodies.\n",
    "# This is how spiceypy knows about Earth locations.\n",
    "spiceypy.furnsh('./kernels/pck00010.tpc')"
   ]
  },
  {
   "cell_type": "code",
   "execution_count": 6,
   "metadata": {},
   "outputs": [],
   "source": [
    "# Define the locations for our sites\n",
    "HCRO_LAT = 40.8172\n",
    "HCRO_LON = -121.4698\n",
    "VA7MM_LAT = 40.8172\n",
    "VA7MM_LON = -122.7611"
   ]
  },
  {
   "cell_type": "code",
   "execution_count": 9,
   "metadata": {},
   "outputs": [
    {
     "name": "stdout",
     "output_type": "stream",
     "text": [
      "[-2516.29320604 -4111.07969591  4163.06565411]\n",
      "[-2608.29952976 -4053.32965942  4163.06565411]\n"
     ]
    }
   ],
   "source": [
    "# Use spiceypy.srfrec to convert the lat/lon of the locations to\n",
    "# planetocentric latitude and longitude of a surface\n",
    "# point on a specified body to rectangular coordinates.\n",
    "# See https://naif.jpl.nasa.gov/pub/naif/toolkit_docs/FORTRAN/spicelib/srfrec.html\n",
    "hcro_xyz  = spiceypy.srfrec(399, np.radians(HCRO_LON),  np.radians(HCRO_LAT))\n",
    "va7mm_xyz  = spiceypy.srfrec(399, np.radians(VA7MM_LON),  np.radians(VA7MM_LAT))\n",
    "print(hcro_xyz)\n",
    "print(va7mm_xyz)"
   ]
  },
  {
   "cell_type": "markdown",
   "metadata": {},
   "source": [
    "### Create a site definitions file that looks like this (insert the XYZ coordinates you just calculated)\n",
    "\n",
    "   \\begindata\n",
    "\n",
    "     SITES     = ( 'VA7MM',\n",
    "                   'HCRO' )\n",
    "\n",
    "     VA7MM_FRAME  = 'ITRF93'\n",
    "     VA7MM_IDCODE = 399501\n",
    "     VA7MM_XYZ    = (-2246.79898141, -3491.55334585,  4825.41698992)\n",
    "     VA7MM_CENTER = 399\n",
    "     VA7MM_UP     = 'Z'\n",
    "     VA7MM_NORTH  = 'X'\n",
    "     VA7MM_BOUNDS = ( @2000-JAN-1, @2030-JAN-1)\n",
    "\n",
    "     HCRO_FRAME   = 'ITRF93'\n",
    "     HCRO_IDCODE  = 399502\n",
    "     HCRO_XYZ     = (-2516.29320604, -4111.07969591,  4163.06565411)\n",
    "     HCRO_CENTER  = 399\n",
    "     HCRO_UP      = 'Z'\n",
    "     HCRO_NORTH   = 'X'\n",
    "     HCRO_BOUNDS  = ( @2000-JAN-1, @2030-JAN-1)\n",
    "\n",
    "   \\begintext"
   ]
  },
  {
   "cell_type": "code",
   "execution_count": 15,
   "metadata": {},
   "outputs": [],
   "source": [
    "# Create the text, insert the XYZ locations.\n",
    "\n",
    "text = \"\"\"\\\\begindata\n",
    "\n",
    " SITES     = ( 'VA7MM',\n",
    "               'HCRO' )\n",
    "\n",
    " VA7MM_FRAME  = 'ITRF93'\n",
    " VA7MM_IDCODE = 399501\n",
    " VA7MM_XYZ    = (-2246.79898141, -3491.55334585,  4825.41698992)\n",
    " VA7MM_CENTER = 399\n",
    " VA7MM_UP     = 'Z'\n",
    " VA7MM_NORTH  = 'X'\n",
    " VA7MM_BOUNDS = ( @2000-JAN-1, @2030-JAN-1)\n",
    "\n",
    " HCRO_FRAME   = 'ITRF93'\n",
    " HCRO_IDCODE  = 399502\n",
    " HCRO_XYZ     = (-2516.29320604, -4111.07969591,  4163.06565411)\n",
    " HCRO_CENTER  = 399\n",
    " HCRO_UP      = 'Z'\n",
    " HCRO_NORTH   = 'X'\n",
    " HCRO_BOUNDS  = ( @2000-JAN-1, @2030-JAN-1)\n",
    " \n",
    "\\\\begintext\"\"\""
   ]
  },
  {
   "cell_type": "code",
   "execution_count": 20,
   "metadata": {},
   "outputs": [],
   "source": [
    "# Write the text to the file. \n",
    "# Create the direcory if it does not exist\n",
    "CUSTOM_SITES_DIRNAME = \"custom_site_defs\"\n",
    "os.makedirs(CUSTOM_SITES_DIRNAME, exist_ok=True)\n",
    "f = open(f\"{CUSTOM_SITES_DIRNAME}{os.sep}hcro_and_va7mm.defs\", \"w\")\n",
    "f.write(text)\n",
    "f.close()"
   ]
  },
  {
   "cell_type": "markdown",
   "metadata": {},
   "source": [
    "### Now we have a definition file for these sites. Create the kernel.\n",
    "Uses the defs file we just created.\n",
    "Use the pinpoint utility to create the kernel.\n",
    "\\\n",
    "On my MAC I downloaded pinpoint from https://naif.jpl.nasa.gov/naif/utilities.html and moved it to /usr/local/bin, had to chmod to make it executable."
   ]
  },
  {
   "cell_type": "code",
   "execution_count": 6,
   "metadata": {},
   "outputs": [
    {
     "name": "stdout",
     "output_type": "stream",
     "text": [
      "pinpoint -def custom_site_defs/hcro_and_va7mm.defs -pck ./kernels/pck00010.tpc -spk kernels/hcro_and_va7mm.bsp -fk kernels/hcro_and_va7mm.tf\n"
     ]
    },
    {
     "data": {
      "text/plain": [
       "0"
      ]
     },
     "execution_count": 6,
     "metadata": {},
     "output_type": "execute_result"
    }
   ],
   "source": [
    "CUSTOM_SITES_DIRNAME = \"custom_site_defs\"\n",
    "CUSTOM_SITE_DEFS_FILENAME = \"hcro_and_va7mm.defs\"\n",
    "KERNELS_DIRNAME = \"kernels\"\n",
    "KERNEL_FILENAME = \"hcro_and_va7mm\"\n",
    "\n",
    "command =  f\"pinpoint -def {CUSTOM_SITES_DIRNAME}{os.sep}{CUSTOM_SITE_DEFS_FILENAME}\"\n",
    "command += \" -pck ./kernels/pck00010.tpc\"\n",
    "command += f\" -spk {KERNELS_DIRNAME}{os.sep}{KERNEL_FILENAME}.bsp\"\n",
    "command += f\" -fk {KERNELS_DIRNAME}{os.sep}{KERNEL_FILENAME}.tf\"\n",
    "print(command)\n",
    "os.system(command)"
   ]
  },
  {
   "cell_type": "markdown",
   "metadata": {},
   "source": [
    "# hcro_and_va7mm.tf and hcro_and_va7mm.bsp should exist in the kernels directory.\n",
    "\n",
    "You have done it!"
   ]
  },
  {
   "cell_type": "code",
   "execution_count": null,
   "metadata": {},
   "outputs": [],
   "source": []
  }
 ],
 "metadata": {
  "kernelspec": {
   "display_name": "Python 3",
   "language": "python",
   "name": "python3"
  },
  "language_info": {
   "codemirror_mode": {
    "name": "ipython",
    "version": 3
   },
   "file_extension": ".py",
   "mimetype": "text/x-python",
   "name": "python",
   "nbconvert_exporter": "python",
   "pygments_lexer": "ipython3",
   "version": "3.8.5"
  }
 },
 "nbformat": 4,
 "nbformat_minor": 4
}
